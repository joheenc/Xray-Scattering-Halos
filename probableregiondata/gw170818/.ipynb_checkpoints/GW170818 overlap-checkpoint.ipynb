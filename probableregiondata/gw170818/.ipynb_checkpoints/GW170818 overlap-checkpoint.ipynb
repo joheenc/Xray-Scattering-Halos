{
 "cells": [
  {
   "cell_type": "code",
   "execution_count": null,
   "metadata": {},
   "outputs": [],
   "source": [
    "import pandas as pd\n",
    "import matplotlib.pyplot as plt\n",
    "import numpy as np\n",
    "probmap = pd.read_csv('probmap.csv')\n",
    "\n",
    "df = pd.DataFrame()\n",
    "file = open('data.txt', 'r')\n",
    "tids = []\n",
    "oids = []\n",
    "ras = []\n",
    "decs = []\n",
    "stimes = []\n",
    "modes = []\n",
    "for line in file.readlines():\n",
    "    arr = line.split()\n",
    "    tids.append(arr[0])\n",
    "    oids.append(arr[1])\n",
    "    ras.append(float(arr[2])*(15.) + float(arr[3])*(15./60.) + float(arr[4])*(15./360.))\n",
    "    decs.append(float(arr[5]) + float(arr[6])/60. + float(arr[7])/360.)\n",
    "    stimes.append(arr[8] + ' ' + arr[9])\n",
    "    modes.append(arr[12])\n",
    "df['targetid'] = tids\n",
    "df['obsid'] = oids\n",
    "df['ra'] = ras\n",
    "df['dec'] = decs\n",
    "df['start time'] = stimes\n",
    "df['mode'] = modes\n",
    "df = df[df['mode'] == 'PHOTON'].sort_values(by=['start time'])\n",
    "\n",
    "fig, ax = plt.subplots(figsize=(12, 6))\n",
    "ax.set_xticks(np.arange(0, 360, 15))\n",
    "ax.set_yticks(np.arange(-90, 90, 15))\n",
    "ax.scatter(probmap['ra'], probmap['dec'], c=probmap['prob'])\n",
    "ax.scatter(df['ra'], df['dec'])\n",
    "for i in np.arange(df.shape[0]):\n",
    "    ax.annotate(i, (df['ra'].tolist()[i], df['dec'].tolist()[i]), color='white')"
   ]
  },
  {
   "cell_type": "code",
   "execution_count": null,
   "metadata": {},
   "outputs": [],
   "source": [
    "from shutil import copyfile\n",
    "import os\n",
    "subset = df[(df.ra<280) & (df.ra>270) & (df.dec > -25) & (df.dec < -15)]\n",
    "\n",
    "c = 0\n",
    "for i, row in subset.iterrows():\n",
    "    targetid = row['targetid']\n",
    "    dirs = os.listdir('.')\n",
    "    for dir in dirs:\n",
    "        if str(targetid) in dir:\n",
    "            files = os.listdir(dir+'/xrt/event/')\n",
    "            for file in files:\n",
    "                if 'pc' in file and 'cl' in file:\n",
    "                    copyfile(dir+'/xrt/event/'+file, 'events/'+str(c)+'_'+dir+'_'+file)\n",
    "                    print(dir+'_'+file+'_'+str(c))\n",
    "                    c += 1"
   ]
  }
 ],
 "metadata": {
  "kernelspec": {
   "display_name": "Python 3",
   "language": "python",
   "name": "python3"
  },
  "language_info": {
   "codemirror_mode": {
    "name": "ipython",
    "version": 3
   },
   "file_extension": ".py",
   "mimetype": "text/x-python",
   "name": "python",
   "nbconvert_exporter": "python",
   "pygments_lexer": "ipython3",
   "version": "3.7.4"
  }
 },
 "nbformat": 4,
 "nbformat_minor": 4
}
