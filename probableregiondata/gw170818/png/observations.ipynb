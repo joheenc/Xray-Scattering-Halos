{
 "cells": [
  {
   "cell_type": "code",
   "execution_count": null,
   "metadata": {},
   "outputs": [],
   "source": [
    "import matplotlib.pyplot as plt\n",
    "import numpy as np\n",
    "from astropy.io import fits\n",
    "hdul = fits.open('../events/73_07009280001_sw07009280001xpcw3po_cl.evt.gz')\n",
    "x = hdul[1].data['X']\n",
    "y = hdul[1].data['Y']\n",
    "pi = hdul[1].data['PI']\n",
    "filteredindices = np.where(pi>0)\n",
    "plt.hist(pi[filteredindices], bins=40)\n",
    "plt.show()\n",
    "plt.clf()\n",
    "fig, ax = plt.subplots(figsize=(16, 12))\n",
    "img = plt.scatter(x[filteredindices], y[filteredindices], c=pi[filteredindices])\n",
    "plt.colorbar(img)\n",
    "plt.show()"
   ]
  }
 ],
 "metadata": {
  "kernelspec": {
   "display_name": "Python 3",
   "language": "python",
   "name": "python3"
  },
  "language_info": {
   "codemirror_mode": {
    "name": "ipython",
    "version": 3
   },
   "file_extension": ".py",
   "mimetype": "text/x-python",
   "name": "python",
   "nbconvert_exporter": "python",
   "pygments_lexer": "ipython3",
   "version": "3.7.4"
  }
 },
 "nbformat": 4,
 "nbformat_minor": 4
}
