{
 "cells": [
  {
   "cell_type": "code",
   "execution_count": 1,
   "metadata": {
    "collapsed": true
   },
   "outputs": [],
   "source": [
    "import numpy as np\n",
    "import matplotlib.pyplot as plt\n",
    "from skimage import *"
   ]
  },
  {
   "cell_type": "code",
   "execution_count": 2,
   "metadata": {
    "collapsed": true
   },
   "outputs": [],
   "source": [
    "def hough(image, low=400, high=500, step=10):\n",
    "    edges = canny(image, sigma=3, low_threshold=10, high_threshold=50)\n",
    "    hough_radii = np.arange(low, high, step)\n",
    "    hough_res = hough_circle(edges, hough_radii)\n",
    "    \n",
    "    accums, cx, cy, radii = hough_circle_peaks(hough_res, hough_radii, total_num_peaks=3)\n",
    "    \n",
    "    fig, ax = plt.subplots(ncols=1, nrows=1, figsize=(10,4))\n",
    "    image = color.gray2rgb(image)\n",
    "    for center_y, center_x, radius in zip(cy, cx, radii):\n",
    "        circy, circx = circle_perimeter(center_y, center_x, radius)\n",
    "        image[circy, circx] = (220, 20, 20)\n",
    "        \n",
    "    ax.imshow(image, cmap=plt.cm.gray)\n",
    "    plt.show()"
   ]
  },
  {
   "cell_type": "code",
   "execution_count": null,
   "metadata": {
    "collapsed": true
   },
   "outputs": [],
   "source": []
  }
 ],
 "metadata": {
  "kernelspec": {
   "display_name": "Python 3",
   "language": "python",
   "name": "python3"
  },
  "language_info": {
   "codemirror_mode": {
    "name": "ipython",
    "version": 3
   },
   "file_extension": ".py",
   "mimetype": "text/x-python",
   "name": "python",
   "nbconvert_exporter": "python",
   "pygments_lexer": "ipython3",
   "version": "3.6.0"
  }
 },
 "nbformat": 4,
 "nbformat_minor": 2
}
